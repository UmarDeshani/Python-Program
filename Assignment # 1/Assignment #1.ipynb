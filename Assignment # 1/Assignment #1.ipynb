{
 "cells": [
  {
   "cell_type": "code",
   "execution_count": 18,
   "id": "ff817ce3",
   "metadata": {},
   "outputs": [
    {
     "name": "stdout",
     "output_type": "stream",
     "text": [
      "Twinkle,twinkle,little star,\n",
      "\t How i wonder what you are!\n",
      "\t\t Up above the world so high,\n",
      "\t\t Like a diamond in the sky.\n",
      "Twinkle,twinkle,little star,\n",
      "\t How i wonder what you are!\n"
     ]
    }
   ],
   "source": [
    "print(\"Twinkle,twinkle,little star,\\n\\t How i wonder what you are!\\n\\t\\t Up above the world so high,\")\n",
    "print(\"\\t\\t Like a diamond in the sky.\\nTwinkle,twinkle,little star,\\n\\t How i wonder what you are!\")"
   ]
  },
  {
   "cell_type": "code",
   "execution_count": 2,
   "id": "523a31ff",
   "metadata": {},
   "outputs": [
    {
     "name": "stdout",
     "output_type": "stream",
     "text": [
      "Python version\n",
      "3.9.7 (default, Sep 16 2021, 16:59:28) [MSC v.1916 64 bit (AMD64)]\n"
     ]
    }
   ],
   "source": [
    "import sys\n",
    "print(\"Python version\")\n",
    "print (sys.version)"
   ]
  },
  {
   "cell_type": "code",
   "execution_count": 3,
   "id": "4bf82801",
   "metadata": {},
   "outputs": [
    {
     "name": "stdout",
     "output_type": "stream",
     "text": [
      "Current date  29-12-2021\n",
      "Current Time  22:36:21\n"
     ]
    }
   ],
   "source": [
    "import datetime\n",
    "now = datetime.datetime.now()\n",
    "print (\"Current date\",now.strftime(\" %d-%m-%Y\"))\n",
    "print (\"Current Time\",now.strftime(\" %H:%M:%S\"))"
   ]
  },
  {
   "cell_type": "code",
   "execution_count": 4,
   "id": "8e5ef10a",
   "metadata": {},
   "outputs": [
    {
     "name": "stdout",
     "output_type": "stream",
     "text": [
      "Enter Radius : 4\n",
      "Area is :  50.24\n"
     ]
    }
   ],
   "source": [
    "Radius=int(input(\"Enter Radius : \"))\n",
    "Area=3.14*Radius**2;\n",
    "print(\"Area is : \",Area)"
   ]
  },
  {
   "cell_type": "code",
   "execution_count": 16,
   "id": "214e27d1",
   "metadata": {},
   "outputs": [
    {
     "name": "stdout",
     "output_type": "stream",
     "text": [
      "Enter first name :Umar\n",
      "Enter last name :Khan\n",
      "Khan Umar\n"
     ]
    }
   ],
   "source": [
    "FirstName=input(\"Enter first name :\")\n",
    "LastName=input(\"Enter last name :\")\n",
    "print(LastName,FirstName)"
   ]
  },
  {
   "cell_type": "code",
   "execution_count": 14,
   "id": "d163386d",
   "metadata": {},
   "outputs": [
    {
     "name": "stdout",
     "output_type": "stream",
     "text": [
      "Enter first number :20\n",
      "Enter 2nd number :30\n",
      "Sum  of two number  50\n"
     ]
    }
   ],
   "source": [
    "num1=int(input(\"Enter first number :\"))\n",
    "num2=int(input(\"Enter 2nd number :\"))\n",
    "print(\"Sum  of two number \",num1+num2)"
   ]
  },
  {
   "cell_type": "code",
   "execution_count": null,
   "id": "b04de834",
   "metadata": {},
   "outputs": [],
   "source": []
  }
 ],
 "metadata": {
  "kernelspec": {
   "display_name": "Python 3 (ipykernel)",
   "language": "python",
   "name": "python3"
  },
  "language_info": {
   "codemirror_mode": {
    "name": "ipython",
    "version": 3
   },
   "file_extension": ".py",
   "mimetype": "text/x-python",
   "name": "python",
   "nbconvert_exporter": "python",
   "pygments_lexer": "ipython3",
   "version": "3.9.7"
  }
 },
 "nbformat": 4,
 "nbformat_minor": 5
}
